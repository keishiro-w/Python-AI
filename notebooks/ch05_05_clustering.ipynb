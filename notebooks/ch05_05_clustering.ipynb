{
 "cells": [
  {
   "cell_type": "markdown",
   "metadata": {
    "colab_type": "text",
    "id": "ORsio2qVD3Rl"
   },
   "source": [
    "## 5.5 顧客層に応じた販売戦略(クラスタリング、次元圧縮)\n"
   ]
  },
  {
   "cell_type": "markdown",
   "metadata": {
    "colab_type": "text",
    "id": "060CpHNuD3Rm"
   },
   "source": [
    "### 共通事前処理"
   ]
  },
  {
   "cell_type": "code",
   "execution_count": null,
   "metadata": {
    "colab": {
     "base_uri": "https://localhost:8080/",
     "height": 34
    },
    "colab_type": "code",
    "id": "euFbjnbRD3Rn",
    "outputId": "2402c260-0309-47c4-9eb5-cb211f8892e8"
   },
   "outputs": [],
   "source": [
    "# 日本語化ライブラリ導入\n",
    "!pip install japanize-matplotlib | tail -n 1"
   ]
  },
  {
   "cell_type": "code",
   "execution_count": null,
   "metadata": {
    "colab": {},
    "colab_type": "code",
    "id": "Lyt_vTxUD3Rq"
   },
   "outputs": [],
   "source": [
    "# 共通事前処理\n",
    "\n",
    "# 余分なワーニングを非表示にする\n",
    "import warnings\n",
    "warnings.filterwarnings('ignore')\n",
    "\n",
    "# 必要ライブラリのimport\n",
    "import pandas as pd\n",
    "import numpy as np\n",
    "import matplotlib.pyplot as plt\n",
    "\n",
    "# matplotlib日本語化対応\n",
    "import japanize_matplotlib\n",
    "\n",
    "# データフレーム表示用関数\n",
    "from IPython.display import display\n",
    "\n",
    "# 表示オプション調整\n",
    "# numpyの浮動小数点の表示精度\n",
    "np.set_printoptions(suppress=True, precision=4)\n",
    "\n",
    "# pandasでの浮動小数点の表示精度\n",
    "pd.options.display.float_format = '{:.4f}'.format\n",
    "\n",
    "# データフレームですべての項目を表示\n",
    "pd.set_option(\"display.max_columns\",None)\n",
    "\n",
    "# グラフのデフォルトフォント指定\n",
    "plt.rcParams[\"font.size\"] = 14\n",
    "\n",
    "# 乱数の種\n",
    "random_seed = 123"
   ]
  },
  {
   "cell_type": "markdown",
   "metadata": {
    "colab_type": "text",
    "id": "HQlDUVzRD3Rs"
   },
   "source": [
    "### オリジナルURL\n",
    "Wholesale customers Data Set \n",
    "\n",
    "https://archive.ics.uci.edu/ml/datasets/wholesale+customers"
   ]
  },
  {
   "cell_type": "markdown",
   "metadata": {
    "colab_type": "text",
    "id": "iB_ocZwOD3Rt"
   },
   "source": [
    "### 5.5.4 データ読み込みからデータ確認まで"
   ]
  },
  {
   "cell_type": "markdown",
   "metadata": {
    "colab_type": "text",
    "id": "zNKorSZmD3Rt"
   },
   "source": [
    "#### データ読み込み"
   ]
  },
  {
   "cell_type": "code",
   "execution_count": null,
   "metadata": {
    "colab": {},
    "colab_type": "code",
    "id": "TsPBG-ECD3Ru"
   },
   "outputs": [],
   "source": [
    "# データ読み込み\n",
    "url = 'https://archive.ics.uci.edu/ml/machine-learning-databases\\\n",
    "/00292/Wholesale%20customers%20data.csv'\n",
    "\n",
    "df = pd.read_csv(url)\n",
    "\n",
    "# 日本語に変更\n",
    "columns = ['販売チャネル', '地域', '生鮮食品', '乳製品', '食料品', \n",
    "    '冷凍食品', '洗剤_紙製品', '総菜']\n",
    "df.columns = columns"
   ]
  },
  {
   "cell_type": "markdown",
   "metadata": {
    "colab_type": "text",
    "id": "oTLRFKx3D3Rw"
   },
   "source": [
    "#### データ確認"
   ]
  },
  {
   "cell_type": "code",
   "execution_count": null,
   "metadata": {
    "colab": {
     "base_uri": "https://localhost:8080/",
     "height": 213
    },
    "colab_type": "code",
    "id": "gKvGiyRXD3Rw",
    "outputId": "fcc57a18-e2f1-44f1-d238-47dc58e2c32a"
   },
   "outputs": [],
   "source": [
    "# データ内容確認\n",
    "display(df.head())\n",
    "\n",
    "# サイズ確認\n",
    "print(df.shape)"
   ]
  },
  {
   "cell_type": "code",
   "execution_count": null,
   "metadata": {
    "colab": {
     "base_uri": "https://localhost:8080/",
     "height": 175
    },
    "colab_type": "code",
    "id": "Z1WIzw_tD3Rz",
    "outputId": "896dd8bc-e617-42c9-e9b8-85233b1dcc13"
   },
   "outputs": [],
   "source": [
    "# 欠損値確認\n",
    "print(df.isnull().sum())"
   ]
  },
  {
   "cell_type": "code",
   "execution_count": null,
   "metadata": {
    "colab": {
     "base_uri": "https://localhost:8080/",
     "height": 158
    },
    "colab_type": "code",
    "id": "j-2hfTBnD3R1",
    "outputId": "ac0d6861-0ed7-406d-d5d5-f57bffeb4eaa"
   },
   "outputs": [],
   "source": [
    "# 販売チャネルのコード値確認\n",
    "print(df['販売チャネル'].value_counts())\n",
    "print()\n",
    "\n",
    "# 地域のコード値確認\n",
    "print(df['地域'].value_counts())"
   ]
  },
  {
   "cell_type": "markdown",
   "metadata": {
    "colab_type": "text",
    "id": "zSMqakKJD3R3"
   },
   "source": [
    "#### 販売チャネルのコード値の意味\n",
    "1.  Horeca(ホテル・レストラン・カフェ) 298 \n",
    "2. Retail(小売り) 142 "
   ]
  },
  {
   "cell_type": "markdown",
   "metadata": {
    "colab_type": "text",
    "id": "aLARYhrsD3R4"
   },
   "source": [
    "#### 地域のコード値の意味\n",
    "1.  Lisbon(リスボン) 77 \n",
    "2. Oporto(オプルトまたはポルト) 47 \n",
    "3. Other Region(その他) 316 \n",
    "\n"
   ]
  },
  {
   "cell_type": "markdown",
   "metadata": {
    "colab_type": "text",
    "id": "wS0QnunZD3R4"
   },
   "source": [
    "#### ヒストグラム表示"
   ]
  },
  {
   "cell_type": "code",
   "execution_count": null,
   "metadata": {
    "colab": {
     "base_uri": "https://localhost:8080/",
     "height": 577
    },
    "colab_type": "code",
    "id": "e7El541nD3R5",
    "outputId": "c2a62863-b9c4-4808-d124-bf8d480d3579",
    "scrolled": false
   },
   "outputs": [],
   "source": [
    "# 販売チャネルと地域を落としたデータを作る\n",
    "df2 = df.drop(['販売チャネル', '地域'], axis=1)\n",
    "\n",
    "# 分析対象項目のヒストグラム表示\n",
    "from pylab import rcParams\n",
    "rcParams['figure.figsize'] = (8, 8)\n",
    "df2.hist(bins=20)\n",
    "plt.tight_layout() \n",
    "plt.show()"
   ]
  },
  {
   "cell_type": "markdown",
   "metadata": {
    "colab_type": "text",
    "id": "qI5f31AtD3R7"
   },
   "source": [
    "### 5.5.5 クラスタリングの実施"
   ]
  },
  {
   "cell_type": "code",
   "execution_count": null,
   "metadata": {
    "colab": {},
    "colab_type": "code",
    "id": "CfEPfY8cD3R7"
   },
   "outputs": [],
   "source": [
    "# データ前処理とデータ分割は不要\n",
    "\n",
    "# アルゴリズムの選択\n",
    "from sklearn.cluster import KMeans\n",
    "\n",
    "# グループ数を定義\n",
    "clusters=4\n",
    "\n",
    "# アルゴリズムの定義\n",
    "algorithm = KMeans(n_clusters=clusters, \n",
    "    random_state=random_seed)"
   ]
  },
  {
   "cell_type": "code",
   "execution_count": null,
   "metadata": {
    "colab": {
     "base_uri": "https://localhost:8080/",
     "height": 34
    },
    "colab_type": "code",
    "id": "xfGbHcwoD3R9",
    "outputId": "eb987da4-502b-40a2-8b9a-e4a5a4d52dd2"
   },
   "outputs": [],
   "source": [
    "# 学習、予測の実施\n",
    "y_pred = algorithm.fit_predict(df2)\n",
    "\n",
    "# 結果の一部確認\n",
    "print(y_pred[:20])"
   ]
  },
  {
   "cell_type": "markdown",
   "metadata": {
    "colab_type": "text",
    "id": "mZxGwWUDD3R_"
   },
   "source": [
    "### 5.5.6 クラスタリング結果の分析"
   ]
  },
  {
   "cell_type": "markdown",
   "metadata": {
    "colab_type": "text",
    "id": "vPbPUf85D3R_"
   },
   "source": [
    "#### グループ別平均値計算"
   ]
  },
  {
   "cell_type": "code",
   "execution_count": null,
   "metadata": {
    "colab": {
     "base_uri": "https://localhost:8080/",
     "height": 166
    },
    "colab_type": "code",
    "id": "q24sMbpvD3SA",
    "outputId": "1cc190f4-6a8d-4b10-a826-1fcd42ae80ac"
   },
   "outputs": [],
   "source": [
    "# グループごとの平均値計算\n",
    "df_cluster = df2.groupby(y_pred).mean()\n",
    "display(df_cluster)"
   ]
  },
  {
   "cell_type": "markdown",
   "metadata": {
    "colab_type": "text",
    "id": "eKzdYkL8D3SC"
   },
   "source": [
    "#### グループ別グラフ表示"
   ]
  },
  {
   "cell_type": "code",
   "execution_count": null,
   "metadata": {
    "colab": {
     "base_uri": "https://localhost:8080/",
     "height": 373
    },
    "colab_type": "code",
    "id": "wVb9iCt0D3SC",
    "outputId": "8058c1e3-92c7-4ec9-fb85-172ac4d14a41"
   },
   "outputs": [],
   "source": [
    "# グループ別の棒グラフ表示\n",
    "df_cluster.plot(kind='bar',stacked=True,\n",
    "    figsize=(10, 6),colormap='jet')\n",
    "plt.show()"
   ]
  },
  {
   "cell_type": "markdown",
   "metadata": {
    "colab_type": "text",
    "id": "eFg89g0wD3SE"
   },
   "source": [
    "#### 分析結果\n",
    "\n",
    "* **0**: 生鮮食品中心\n",
    "* **1**: 食料品中心\n",
    "* **2**: 大量購入\n",
    "* **3**: 少量購入"
   ]
  },
  {
   "cell_type": "markdown",
   "metadata": {
    "colab_type": "text",
    "id": "QGmD9ipaD3SF"
   },
   "source": [
    "#### グループと販売チャネル・地域との関係"
   ]
  },
  {
   "cell_type": "code",
   "execution_count": null,
   "metadata": {
    "colab": {
     "base_uri": "https://localhost:8080/",
     "height": 887
    },
    "colab_type": "code",
    "id": "vzq4FBEHD3SF",
    "outputId": "0495656b-b77e-4285-a952-0adb33d9283e",
    "scrolled": false
   },
   "outputs": [],
   "source": [
    "# クラスタと、チャネル・地域の関係を調べる\n",
    "\n",
    "# 販売チャネルと地域のみをdf3に抽出\n",
    "df3 = df[['販売チャネル', '地域']]\n",
    "\n",
    "# グラフの大きさ設定\n",
    "rcParams['figure.figsize'] = (6,3)\n",
    "\n",
    "# グループごとのグラフ表示\n",
    "for i in range(clusters):\n",
    "    fig, ax = plt.subplots()\n",
    "    w = df3[y_pred==i]\n",
    "    print(f'==== グループ{i} ====')\n",
    "    w.hist(ax=ax)\n",
    "    plt.tight_layout()\n",
    "    plt.show()"
   ]
  },
  {
   "cell_type": "markdown",
   "metadata": {
    "colab_type": "text",
    "id": "z3iYpMSZD3SH"
   },
   "source": [
    "#### 分析結果\n",
    "グループ0(生鮮)とグループ3(少量)は、チャネル1(Horeca)と関連が深い。   \n",
    "グループ1(食品)とグループ2(大量)は、チャネル2(Retail)と関連が深い。  \n",
    "地域とグループの関連は時に見いだせない。"
   ]
  },
  {
   "cell_type": "markdown",
   "metadata": {
    "colab_type": "text",
    "id": "kPwgiwbtD3SI"
   },
   "source": [
    "### 5.5.7 次元圧縮の実施"
   ]
  },
  {
   "cell_type": "code",
   "execution_count": null,
   "metadata": {
    "colab": {},
    "colab_type": "code",
    "id": "clpaya39D3SI"
   },
   "outputs": [],
   "source": [
    "# アルゴリズムの選択\n",
    "from sklearn.decomposition import PCA\n",
    "\n",
    "# モデル生成\n",
    "# 散布図表示が目的のため2次元に圧縮\n",
    "pca = PCA(n_components=2)"
   ]
  },
  {
   "cell_type": "code",
   "execution_count": null,
   "metadata": {
    "colab": {
     "base_uri": "https://localhost:8080/",
     "height": 105
    },
    "colab_type": "code",
    "id": "obiGfHi0D3SK",
    "outputId": "12142fe3-6ff5-4ae5-9841-4c7391d428f6"
   },
   "outputs": [],
   "source": [
    "# 学習・変換の実施\n",
    "d2 = pca.fit_transform(df2)\n",
    "\n",
    "# 結果の一部表示\n",
    "print(d2[:5,:])"
   ]
  },
  {
   "cell_type": "markdown",
   "metadata": {
    "colab_type": "text",
    "id": "9O5StcBGD3SM"
   },
   "source": [
    "### 5.5.8 次元圧縮の活用方法"
   ]
  },
  {
   "cell_type": "markdown",
   "metadata": {
    "colab_type": "text",
    "id": "ceborIy5D3SM"
   },
   "source": [
    "#### 散布図表示"
   ]
  },
  {
   "cell_type": "code",
   "execution_count": null,
   "metadata": {
    "colab": {
     "base_uri": "https://localhost:8080/",
     "height": 486
    },
    "colab_type": "code",
    "id": "DFOj2JT-D3SN",
    "outputId": "56d1ed99-e0b2-4d8e-9150-4ed20d0dd64a"
   },
   "outputs": [],
   "source": [
    "# グループごとに色分けし散布図表示\n",
    "\n",
    "plt.figure(figsize=(8,8))\n",
    "marks = ['.', 'x', '*', '+']\n",
    "labels = ['生鮮', '食品', '大量', '少量']\n",
    "colors = ['grey', 'lightblue', 'blue', 'black']\n",
    "for i in range(clusters):\n",
    "  plt.scatter(d2[y_pred==i][:,0], d2[y_pred==i][:,1], \n",
    "    marker=marks[i], label=labels[i], s=100, c=colors[i])\n",
    "plt.legend(fontsize=14)\n",
    "plt.show()"
   ]
  },
  {
   "cell_type": "markdown",
   "metadata": {
    "colab_type": "text",
    "id": "xSroAT7PD3SP"
   },
   "source": [
    "#### 例外値の調査"
   ]
  },
  {
   "cell_type": "code",
   "execution_count": null,
   "metadata": {
    "colab": {
     "base_uri": "https://localhost:8080/",
     "height": 77
    },
    "colab_type": "code",
    "id": "ygbDqd_lD3SQ",
    "outputId": "e75d96d3-337a-4f63-bf2c-834c604e1706"
   },
   "outputs": [],
   "source": [
    "# 生鮮グループの例外値を調べる\n",
    "display(df[d2[:,0] > 100000])"
   ]
  },
  {
   "cell_type": "markdown",
   "metadata": {
    "colab_type": "text",
    "id": "S7SvVzFBD3SR"
   },
   "source": [
    "【考察】  \n",
    "インデックス181の顧客は、特に生鮮食品の購買量が多いと考えられる"
   ]
  },
  {
   "cell_type": "code",
   "execution_count": null,
   "metadata": {
    "colab": {
     "base_uri": "https://localhost:8080/",
     "height": 77
    },
    "colab_type": "code",
    "id": "1aNy2yJVD3SS",
    "outputId": "df28c201-d4bc-4db2-9387-bb7a645a9b26"
   },
   "outputs": [],
   "source": [
    "# 大量グループの例外値を調べる\n",
    "display(df[d2[:,1] > 80000])"
   ]
  },
  {
   "cell_type": "markdown",
   "metadata": {
    "colab_type": "text",
    "id": "J6jV6-4HD3SU"
   },
   "source": [
    "【考察】  \n",
    "インデックス85の顧客は、特に食料品と洗剤・紙製品の購買量が多いと考えられる"
   ]
  },
  {
   "cell_type": "code",
   "execution_count": null,
   "metadata": {
    "colab": {
     "base_uri": "https://localhost:8080/",
     "height": 284
    },
    "colab_type": "code",
    "id": "zgOgOJfhD3SU",
    "outputId": "e5c7fafd-3915-47d9-ff08-db1aa6c338b5"
   },
   "outputs": [],
   "source": [
    "# 統計情報確認\n",
    "display(df2.describe())"
   ]
  },
  {
   "cell_type": "code",
   "execution_count": null,
   "metadata": {
    "colab": {},
    "colab_type": "code",
    "id": "U6zUEK9PD3SW"
   },
   "outputs": [],
   "source": []
  }
 ],
 "metadata": {
  "colab": {
   "name": "ch05_07_clustering.ipynb",
   "provenance": []
  },
  "kernelspec": {
   "display_name": "Python 3",
   "language": "python",
   "name": "python3"
  },
  "language_info": {
   "codemirror_mode": {
    "name": "ipython",
    "version": 3
   },
   "file_extension": ".py",
   "mimetype": "text/x-python",
   "name": "python",
   "nbconvert_exporter": "python",
   "pygments_lexer": "ipython3",
   "version": "3.7.6"
  }
 },
 "nbformat": 4,
 "nbformat_minor": 1
}
