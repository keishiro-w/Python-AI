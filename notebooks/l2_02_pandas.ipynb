{
 "cells": [
  {
   "cell_type": "markdown",
   "metadata": {
    "colab_type": "text",
    "id": "4gGRZm4npjrz"
   },
   "source": [
    "## 付録 2.3 Pandas入門"
   ]
  },
  {
   "cell_type": "markdown",
   "metadata": {
    "colab_type": "text",
    "id": "nHmayxj0pjr0"
   },
   "source": [
    "### データフレーム定義"
   ]
  },
  {
   "cell_type": "markdown",
   "metadata": {
    "colab_type": "text",
    "id": "C_lVnAsOpjr0"
   },
   "source": [
    "#### ライブラリインポート"
   ]
  },
  {
   "cell_type": "code",
   "execution_count": null,
   "metadata": {
    "colab": {},
    "colab_type": "code",
    "id": "BCjiKeO2pjr1"
   },
   "outputs": [],
   "source": [
    "# ライブラリのimport\n",
    "\n",
    "# NumPy用ライブラリ\n",
    "import numpy as np\n",
    "\n",
    "# pandas用ライブラリ\n",
    "import pandas as pd\n",
    "\n",
    "# データフレーム表示用関数\n",
    "from IPython.display import display\n",
    "\n",
    "# データフレームでの表示精度\n",
    "pd.options.display.float_format = '{:.4f}'.format\n",
    "\n",
    "# データフレームですべての項目を表示\n",
    "pd.set_option(\"display.max_columns\",None)"
   ]
  },
  {
   "cell_type": "markdown",
   "metadata": {
    "colab_type": "text",
    "id": "RV7cWulfpjr4"
   },
   "source": [
    "#### データフレーム定義"
   ]
  },
  {
   "cell_type": "code",
   "execution_count": null,
   "metadata": {
    "colab": {
     "base_uri": "https://localhost:8080/",
     "height": 105
    },
    "colab_type": "code",
    "id": "wa5sQtBFpjr4",
    "outputId": "2ae58aa7-76ad-457d-dfa9-e3e64994104b"
   },
   "outputs": [],
   "source": [
    "# NumPy2次元配列の定義\n",
    "b = np.array([[1, 2, 1], [4, 5, 2], [7, 8, 2],\n",
    "    [10,np.nan, 1], [13, 10, 2]])\n",
    "\n",
    "# 結果確認\n",
    "print(b)"
   ]
  },
  {
   "cell_type": "code",
   "execution_count": null,
   "metadata": {
    "colab": {
     "base_uri": "https://localhost:8080/",
     "height": 213
    },
    "colab_type": "code",
    "id": "7kLfGAL4pjr7",
    "outputId": "89fbd29a-27d6-4237-a45d-a9b601265f8e"
   },
   "outputs": [],
   "source": [
    "# データフレームの定義\n",
    "df = pd.DataFrame(b, columns=['col_a', 'col_b', 'col_c'])\n",
    "\n",
    "# 型表示\n",
    "print(type(df))\n",
    "\n",
    "# display関数による整形表示\n",
    "display(df)"
   ]
  },
  {
   "cell_type": "code",
   "execution_count": null,
   "metadata": {
    "colab": {
     "base_uri": "https://localhost:8080/",
     "height": 158
    },
    "colab_type": "code",
    "id": "O31fAJwFpjr9",
    "outputId": "7eddf1a4-9329-4e62-9fd4-cadf859ca721"
   },
   "outputs": [],
   "source": [
    "# データフレームの各部品表示\n",
    "\n",
    "# 列名\n",
    "print('列名', df.columns)\n",
    "\n",
    "print('行名', df.index)\n",
    "\n",
    "# データ本体\n",
    "print('データ本体\\n', df.values)"
   ]
  },
  {
   "cell_type": "markdown",
   "metadata": {
    "colab_type": "text",
    "id": "_WkiLAW-pjsA"
   },
   "source": [
    "### ファイルからのデータ読み込み"
   ]
  },
  {
   "cell_type": "markdown",
   "metadata": {
    "colab_type": "text",
    "id": "CUqqUdBWpjsA"
   },
   "source": [
    "#### CSVファイルからの読み込み"
   ]
  },
  {
   "cell_type": "code",
   "execution_count": null,
   "metadata": {
    "colab": {
     "base_uri": "https://localhost:8080/",
     "height": 195
    },
    "colab_type": "code",
    "id": "ZVyNK5m_pjsA",
    "outputId": "696b8305-17d2-411c-c3cc-795ba8e73f8b"
   },
   "outputs": [],
   "source": [
    "# CSVファイルからの読み込み\n",
    "\n",
    "# 読み込み元URL\n",
    "csv_url = 'https://github.com/makaishi2/sample-data\\\n",
    "/raw/d2b5d7e7c3444d995a1fed5bdadf703709946c75/data/df-sample.csv'\n",
    "\n",
    "# データ読み込み\n",
    "df_csv = pd.read_csv(csv_url)\n",
    "\n",
    "# 結果確認\n",
    "display(df_csv)"
   ]
  },
  {
   "cell_type": "code",
   "execution_count": null,
   "metadata": {
    "colab": {
     "base_uri": "https://localhost:8080/",
     "height": 195
    },
    "colab_type": "code",
    "id": "C5nwfcNtpjsD",
    "outputId": "5be25bc9-bb80-48da-efa8-fdaecdb0ae43"
   },
   "outputs": [],
   "source": [
    "# ファイル読み込み後の列名変更\n",
    "columns = ['A列', 'B列', 'C列']\n",
    "df_csv.columns = columns\n",
    "\n",
    "# 結果確認\n",
    "display(df_csv)"
   ]
  },
  {
   "cell_type": "markdown",
   "metadata": {
    "colab_type": "text",
    "id": "QDaMz8DXpjsF"
   },
   "source": [
    "#### Excelファイルからの読み込み"
   ]
  },
  {
   "cell_type": "code",
   "execution_count": null,
   "metadata": {
    "colab": {
     "base_uri": "https://localhost:8080/",
     "height": 195
    },
    "colab_type": "code",
    "id": "eOgg3IOopjsG",
    "outputId": "4eb511e4-86bd-4edd-db26-eb5ede817fb6"
   },
   "outputs": [],
   "source": [
    "# Excelファイルからの読み込み\n",
    "\n",
    "# 読み込み元URL\n",
    "excel_url = 'https://github.com/makaishi2/sample-data\\\n",
    "/raw/d2b5d7e7c3444d995a1fed5bdadf703709946c75/data/df-sample.xlsx'\n",
    "\n",
    "# データ読み込み\n",
    "df_excel = pd.read_excel(excel_url)\n",
    "\n",
    "# 結果確認\n",
    "display(df_excel)"
   ]
  },
  {
   "cell_type": "markdown",
   "metadata": {
    "colab_type": "text",
    "id": "tnI4IsGHpjsI"
   },
   "source": [
    "### Series定義"
   ]
  },
  {
   "cell_type": "code",
   "execution_count": null,
   "metadata": {
    "colab": {
     "base_uri": "https://localhost:8080/",
     "height": 34
    },
    "colab_type": "code",
    "id": "nyDX6ISlpjsI",
    "outputId": "dfcd7788-aed8-443d-9143-d9ba4f382622"
   },
   "outputs": [],
   "source": [
    "# 1次元NumPy配列の定義\n",
    "a = np.array(['male', 'male', 'female', 'male', 'female'])\n",
    "\n",
    "# 結果確認\n",
    "print(a)"
   ]
  },
  {
   "cell_type": "code",
   "execution_count": null,
   "metadata": {
    "colab": {
     "base_uri": "https://localhost:8080/",
     "height": 140
    },
    "colab_type": "code",
    "id": "h3QNSutjpjsK",
    "outputId": "0397d015-e7e3-4101-b2db-dad984679727"
   },
   "outputs": [],
   "source": [
    "# Seriesの定義\n",
    "ser = pd.Series(a, name='col_d')\n",
    "\n",
    "print(type(ser))\n",
    "\n",
    "print(ser)"
   ]
  },
  {
   "cell_type": "code",
   "execution_count": null,
   "metadata": {
    "colab": {
     "base_uri": "https://localhost:8080/",
     "height": 140
    },
    "colab_type": "code",
    "id": "flUQQ12XpjsO",
    "outputId": "9137a506-6dda-4501-aded-5fd9f26d9118"
   },
   "outputs": [],
   "source": [
    "# データフレームからSeriesを生成\n",
    "ser2 = df['col_b']\n",
    "\n",
    "print(type(ser2))\n",
    "\n",
    "print(ser2)"
   ]
  },
  {
   "cell_type": "markdown",
   "metadata": {
    "colab_type": "text",
    "id": "9doo0P4HpjsQ"
   },
   "source": [
    "### データフレームとNumPyの関係"
   ]
  },
  {
   "cell_type": "code",
   "execution_count": null,
   "metadata": {
    "colab": {},
    "colab_type": "code",
    "id": "gAWFPi9xpjsQ"
   },
   "outputs": [],
   "source": [
    "# データフレームと2次元NumPy配列の関係\n",
    "\n",
    "# データフレームから2次元NumPy配列を取得\n",
    "ar = df.values\n",
    "\n",
    "# 2次元NumPy配列からデータフレームを生成\n",
    "df0 = pd.DataFrame(ar)"
   ]
  },
  {
   "cell_type": "code",
   "execution_count": null,
   "metadata": {
    "colab": {
     "base_uri": "https://localhost:8080/",
     "height": 52
    },
    "colab_type": "code",
    "id": "3El54oZ2pjsS",
    "outputId": "dd5a7d92-bdb6-47be-8553-cf719f72fed7"
   },
   "outputs": [],
   "source": [
    "# データフレームのshapeとlen関数\n",
    "# shapeとlen関数は、内部のNumPyの結果がそのまま返る\n",
    "\n",
    "print(df.shape)\n",
    "print(len(df))"
   ]
  },
  {
   "cell_type": "markdown",
   "metadata": {
    "colab_type": "text",
    "id": "Z2I02NLHpjsU"
   },
   "source": [
    "### データフレーム部分参照"
   ]
  },
  {
   "cell_type": "code",
   "execution_count": null,
   "metadata": {
    "colab": {
     "base_uri": "https://localhost:8080/",
     "height": 195
    },
    "colab_type": "code",
    "id": "6kmPCl_OpjsV",
    "outputId": "42c325a2-415d-4220-96ea-487cfe02ac9e"
   },
   "outputs": [],
   "source": [
    "# 列リストで部分表を抽出\n",
    "\n",
    "cols = ['col_a', 'col_c']\n",
    "df2 = df[cols]\n",
    "\n",
    "display(df2)"
   ]
  },
  {
   "cell_type": "code",
   "execution_count": null,
   "metadata": {
    "colab": {
     "base_uri": "https://localhost:8080/",
     "height": 34
    },
    "colab_type": "code",
    "id": "BNHw9Zt3pjsX",
    "outputId": "612c5969-ee21-4ac7-91ba-59dfeeab4dab"
   },
   "outputs": [],
   "source": [
    "# データフレームの特定列をNumPy配列として抽出\n",
    "\n",
    "y = df['col_a'].values\n",
    "print(y)"
   ]
  },
  {
   "cell_type": "code",
   "execution_count": null,
   "metadata": {
    "colab": {
     "base_uri": "https://localhost:8080/",
     "height": 106
    },
    "colab_type": "code",
    "id": "jxBTDAW9pjsZ",
    "outputId": "3a32d6a4-f8e4-45ec-e0b1-3d8a4e67c6e7"
   },
   "outputs": [],
   "source": [
    "# head関数で行の範囲指定\n",
    "display(df.head(2))"
   ]
  },
  {
   "cell_type": "code",
   "execution_count": null,
   "metadata": {
    "colab": {
     "base_uri": "https://localhost:8080/",
     "height": 106
    },
    "colab_type": "code",
    "id": "IJXtg23ppjsa",
    "outputId": "45fdacc4-4afb-486c-9ecf-9396a1485dfd"
   },
   "outputs": [],
   "source": [
    "# 行の範囲を数値指定\n",
    "display(df[0:2])"
   ]
  },
  {
   "cell_type": "markdown",
   "metadata": {
    "colab_type": "text",
    "id": "doL6EuABpjsd"
   },
   "source": [
    "#### Index配列を元に行選択"
   ]
  },
  {
   "cell_type": "code",
   "execution_count": null,
   "metadata": {
    "colab": {
     "base_uri": "https://localhost:8080/",
     "height": 0
    },
    "colab_type": "code",
    "id": "Nsi0FrY0pjsd",
    "outputId": "f7678e8a-cac5-49b0-db01-ec4f64e0e01d"
   },
   "outputs": [],
   "source": [
    "# idx:「col_aが奇数」を判定\n",
    "idx = (df['col_a'] % 2 == 1)\n",
    "print(idx)"
   ]
  },
  {
   "cell_type": "code",
   "execution_count": null,
   "metadata": {
    "colab": {
     "base_uri": "https://localhost:8080/",
     "height": 0
    },
    "colab_type": "code",
    "id": "ksLK66I_pjsf",
    "outputId": "055a7e40-0912-4991-97d3-4f09b007107a"
   },
   "outputs": [],
   "source": [
    "# idx で行を絞り込む\n",
    "df3 = df[idx]\n",
    "display(df3)"
   ]
  },
  {
   "cell_type": "code",
   "execution_count": null,
   "metadata": {
    "colab": {
     "base_uri": "https://localhost:8080/",
     "height": 0
    },
    "colab_type": "code",
    "id": "B34XDo-ppjsh",
    "outputId": "7d9ae948-ac0b-4888-c141-3f1e7b82eb12"
   },
   "outputs": [],
   "source": [
    "# まとめて1行で表現\n",
    "df4 = df[df['col_a'] % 2 == 1]\n",
    "display(df4)"
   ]
  },
  {
   "cell_type": "markdown",
   "metadata": {
    "colab_type": "text",
    "id": "hkK4n6FNpjsi"
   },
   "source": [
    "### データフレーム操作"
   ]
  },
  {
   "cell_type": "code",
   "execution_count": null,
   "metadata": {
    "colab": {
     "base_uri": "https://localhost:8080/",
     "height": 195
    },
    "colab_type": "code",
    "id": "AkyQQOwJpjsj",
    "outputId": "fb91f9aa-ac68-45b5-8b33-d3bc2102c3f5"
   },
   "outputs": [],
   "source": [
    "# 列削除\n",
    "df5 = df.drop('col_a', axis=1)\n",
    "display(df5)"
   ]
  },
  {
   "cell_type": "code",
   "execution_count": null,
   "metadata": {
    "colab": {
     "base_uri": "https://localhost:8080/",
     "height": 166
    },
    "colab_type": "code",
    "id": "Gu-H_m_ppjsk",
    "outputId": "83a32519-3ba3-4b36-e36e-3fae108ff950"
   },
   "outputs": [],
   "source": [
    "# 欠損値のある行を削除\n",
    "df6 = df.dropna(subset = ['col_b'])\n",
    "display(df6)"
   ]
  },
  {
   "cell_type": "code",
   "execution_count": null,
   "metadata": {
    "colab": {
     "base_uri": "https://localhost:8080/",
     "height": 195
    },
    "colab_type": "code",
    "id": "jD4SaDAXpjsm",
    "outputId": "dd3a1b9b-c125-412d-91fd-20eb1d01d9e9"
   },
   "outputs": [],
   "source": [
    "# 列連結\n",
    "df7 = pd.concat([df, ser], axis=1)\n",
    "display(df7)"
   ]
  },
  {
   "cell_type": "markdown",
   "metadata": {
    "colab_type": "text",
    "id": "pxA4rs3ppjso"
   },
   "source": [
    "### データフレーム関数"
   ]
  },
  {
   "cell_type": "code",
   "execution_count": null,
   "metadata": {
    "colab": {
     "base_uri": "https://localhost:8080/",
     "height": 34
    },
    "colab_type": "code",
    "id": "O5IuS-4zpjso",
    "outputId": "5454900d-d476-423b-9ce5-c4292eea6deb"
   },
   "outputs": [],
   "source": [
    "#  特定列に対する統計関数\n",
    "a_mean = df['col_a'].mean()\n",
    "a_max = df['col_a'].max()\n",
    "a_min = df['col_a'].min()\n",
    "\n",
    "print(f'平均: {a_mean}  最大:{a_max}  最小:{a_min}')"
   ]
  },
  {
   "cell_type": "code",
   "execution_count": null,
   "metadata": {
    "colab": {
     "base_uri": "https://localhost:8080/",
     "height": 87
    },
    "colab_type": "code",
    "id": "hj0Pw3vDpjsq",
    "outputId": "c3fc7fe1-89f1-4fa2-a87b-3d722072deb5"
   },
   "outputs": [],
   "source": [
    "# データフレーム全体にmean関数呼び出し\n",
    "print(df.mean())"
   ]
  },
  {
   "cell_type": "code",
   "execution_count": null,
   "metadata": {
    "colab": {
     "base_uri": "https://localhost:8080/",
     "height": 284
    },
    "colab_type": "code",
    "id": "pIOx75jgpjss",
    "outputId": "8118e35d-aae6-4cec-9c4f-b019579cecab"
   },
   "outputs": [],
   "source": [
    "# 項目ごとの統計情報取得\n",
    "display(df.describe())"
   ]
  },
  {
   "cell_type": "code",
   "execution_count": null,
   "metadata": {
    "colab": {
     "base_uri": "https://localhost:8080/",
     "height": 70
    },
    "colab_type": "code",
    "id": "z_WqUo8ypjsu",
    "outputId": "9347da88-1d42-4d71-9282-789c2e6ad994"
   },
   "outputs": [],
   "source": [
    "# 項目値の個数集計\n",
    "df7['col_d'].value_counts()"
   ]
  },
  {
   "cell_type": "code",
   "execution_count": null,
   "metadata": {
    "colab": {
     "base_uri": "https://localhost:8080/",
     "height": 195
    },
    "colab_type": "code",
    "id": "qIZCjCpdpjsv",
    "outputId": "e3db5314-619a-480a-d130-64f5f0e989c1"
   },
   "outputs": [],
   "source": [
    "# NULL値チェック\n",
    "display(df.isnull())"
   ]
  },
  {
   "cell_type": "code",
   "execution_count": null,
   "metadata": {
    "colab": {
     "base_uri": "https://localhost:8080/",
     "height": 87
    },
    "colab_type": "code",
    "id": "g3MXLN-ppjsx",
    "outputId": "21b2f118-98d7-4dfd-ea1d-ab2bab46c0c1"
   },
   "outputs": [],
   "source": [
    "# 列単位の欠損値集計\n",
    "print(df.isnull().sum())"
   ]
  },
  {
   "cell_type": "markdown",
   "metadata": {
    "colab_type": "text",
    "id": "N6rKT_H9pjsz"
   },
   "source": [
    "### groupby関数"
   ]
  },
  {
   "cell_type": "code",
   "execution_count": null,
   "metadata": {
    "colab": {
     "base_uri": "https://localhost:8080/",
     "height": 136
    },
    "colab_type": "code",
    "id": "vRU_a1vrpjs0",
    "outputId": "3b1d4853-7687-4e00-ad69-5095698cf283"
   },
   "outputs": [],
   "source": [
    "# groupby関数でcol_dの項目値ごとの集計\n",
    "df8 = df7.groupby('col_d').mean()\n",
    "display(df8)"
   ]
  },
  {
   "cell_type": "markdown",
   "metadata": {
    "colab_type": "text",
    "id": "k8oOfxKmpjs1"
   },
   "source": [
    "### map関数"
   ]
  },
  {
   "cell_type": "code",
   "execution_count": null,
   "metadata": {
    "colab": {
     "base_uri": "https://localhost:8080/",
     "height": 195
    },
    "colab_type": "code",
    "id": "WDr7C0ZTpjs2",
    "outputId": "9993e6f7-a465-4e11-fee8-ae8b397df150"
   },
   "outputs": [],
   "source": [
    "# map関数でmale/femaleを1/0に置き換え\n",
    "df9 = df7.copy()\n",
    "mf_map = {'male': 1, 'female': 0}\n",
    "df9['col_d'] = df9['col_d'].map(mf_map)\n",
    "display(df9)"
   ]
  },
  {
   "cell_type": "code",
   "execution_count": null,
   "metadata": {
    "colab": {},
    "colab_type": "code",
    "id": "kpgMWb2xpjs3"
   },
   "outputs": [],
   "source": []
  }
 ],
 "metadata": {
  "colab": {
   "name": "a2_02_pandas.ipynb",
   "provenance": []
  },
  "kernelspec": {
   "display_name": "Python 3",
   "language": "python",
   "name": "python3"
  },
  "language_info": {
   "codemirror_mode": {
    "name": "ipython",
    "version": 3
   },
   "file_extension": ".py",
   "mimetype": "text/x-python",
   "name": "python",
   "nbconvert_exporter": "python",
   "pygments_lexer": "ipython3",
   "version": "3.7.6"
  }
 },
 "nbformat": 4,
 "nbformat_minor": 1
}
