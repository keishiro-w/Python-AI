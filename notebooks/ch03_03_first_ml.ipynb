{
 "cells": [
  {
   "cell_type": "markdown",
   "metadata": {
    "colab_type": "text",
    "id": "M8HCd_fgs4r6"
   },
   "source": [
    "# 3.3 モデルの実装"
   ]
  },
  {
   "cell_type": "markdown",
   "metadata": {
    "colab_type": "text",
    "id": "aU-H4_An1qzF"
   },
   "source": [
    "### 共通事前処理"
   ]
  },
  {
   "cell_type": "code",
   "execution_count": null,
   "metadata": {
    "colab": {},
    "colab_type": "code",
    "id": "rluUyAqg1qzG"
   },
   "outputs": [],
   "source": [
    "# 日本語化ライブラリ導入\n",
    "!pip install japanize-matplotlib | tail -n 1"
   ]
  },
  {
   "cell_type": "code",
   "execution_count": null,
   "metadata": {
    "colab": {},
    "colab_type": "code",
    "id": "YdEDB0EbtAHq"
   },
   "outputs": [],
   "source": [
    "# 共通事前処理\n",
    "\n",
    "# 余分なワーニングを非表示にする\n",
    "import warnings\n",
    "warnings.filterwarnings('ignore')\n",
    "\n",
    "# 必要ライブラリのimport\n",
    "import pandas as pd\n",
    "import numpy as np\n",
    "import matplotlib.pyplot as plt\n",
    "\n",
    "# matplotlib日本語化対応\n",
    "import japanize_matplotlib\n",
    "\n",
    "# データフレーム表示用関数\n",
    "from IPython.display import display\n",
    "\n",
    "# 表示オプション調整\n",
    "# numpyの浮動小数点の表示精度\n",
    "np.set_printoptions(suppress=True, precision=4)\n",
    "# pandasでの浮動小数点の表示精度\n",
    "pd.options.display.float_format = '{:.4f}'.format\n",
    "# データフレームですべての項目を表示\n",
    "pd.set_option(\"display.max_columns\",None)\n",
    "# グラフのデフォルトフォント指定\n",
    "plt.rcParams[\"font.size\"] = 14\n",
    "# 乱数の種\n",
    "random_seed = 123"
   ]
  },
  {
   "cell_type": "markdown",
   "metadata": {
    "colab_type": "text",
    "id": "9xyj5tgy1qzN"
   },
   "source": [
    "### 乳がん疾患データセット"
   ]
  },
  {
   "cell_type": "markdown",
   "metadata": {
    "colab_type": "text",
    "id": "89d59gas1qzN"
   },
   "source": [
    "[UCIデータセットサイト](https://archive.ics.uci.edu/ml/datasets/Breast+Cancer+Wisconsin+(Diagnostic))"
   ]
  },
  {
   "cell_type": "markdown",
   "metadata": {
    "colab_type": "text",
    "id": "4hLrMm_71qzO"
   },
   "source": [
    "#### 分析データイメージ\n",
    "<img src=\"https://www.researchgate.net/profile/Nick_Street/publication/2512520/figure/fig2/AS:279373199495169@1443619169198/Snakes-After-Convergence-to-Cell-Nucleus-Boundaries-These-contours-are-the-nal.png\" alt=\"Drawing\" width=\"40%\" align=\"left\">\n"
   ]
  },
  {
   "cell_type": "markdown",
   "metadata": {
    "colab_type": "text",
    "id": "QFRu16rLaVMK"
   },
   "source": [
    "### 3.3.1 (1) データ読み込み"
   ]
  },
  {
   "cell_type": "code",
   "execution_count": null,
   "metadata": {
    "colab": {},
    "colab_type": "code",
    "id": "6nDUWh6dsrrx",
    "scrolled": true
   },
   "outputs": [],
   "source": [
    "# ガン疾患データセットのロード\n",
    "\n",
    "# ライブラリのimport\n",
    "from sklearn.datasets import load_breast_cancer\n",
    "\n",
    "# データのロード\n",
    "cancer = load_breast_cancer()\n",
    "\n",
    "# データの注釈を読む\n",
    "print(cancer.DESCR)"
   ]
  },
  {
   "cell_type": "code",
   "execution_count": null,
   "metadata": {
    "colab": {},
    "colab_type": "code",
    "id": "Sf_A259BtYDq"
   },
   "outputs": [],
   "source": [
    "# データフレームへの取り込み\n",
    "\n",
    "columns = [\n",
    "    '半径_平均', 'きめ_平均', '周長_平均', '面積_平均', \n",
    "    '平滑度_平均','コンパクト度_平均', '凹面_平均',\n",
    "    '凹点_平均', '対称性_平均', 'フラクタル度_平均',\n",
    "    '半径_標準誤差', 'きめ_標準誤差', '周長_標準誤差',\n",
    "    '面積_標準誤差', '平滑度_標準誤差',\n",
    "    'コンパクト度_標準誤差', '凹面_標準誤差', '凹点_標準誤差',\n",
    "    '対称性_標準誤差', 'フラクタル度_標準誤差',\n",
    "    '半径_最大', 'きめ_最大', '周長_最大', '面積_最大', \n",
    "    '平滑度_最大','コンパクト度_最大', '凹面_最大', '凹点_最大', \n",
    "    '対称性_最大', 'フラクタル度_最大'\n",
    "]\n",
    "\n",
    "# ロードしたデータのデータフレームへの取り込み\n",
    "df = pd.DataFrame(cancer.data, columns=columns)\n",
    "\n",
    "# 正解データの取得\n",
    "y = pd.Series(cancer.target)"
   ]
  },
  {
   "cell_type": "markdown",
   "metadata": {
    "colab_type": "text",
    "id": "C-ddEokd1qzU"
   },
   "source": [
    "### 3.3.2 (2) データ確認"
   ]
  },
  {
   "cell_type": "code",
   "execution_count": null,
   "metadata": {
    "colab": {},
    "colab_type": "code",
    "id": "LKD5Nj8Xtw_j"
   },
   "outputs": [],
   "source": [
    "# 入力データの表示\n",
    "\n",
    "# 入力データの先頭20行目から24行目までの表示\n",
    "display(df[20:25])"
   ]
  },
  {
   "cell_type": "code",
   "execution_count": null,
   "metadata": {
    "colab": {},
    "colab_type": "code",
    "id": "Lfo3Toco5tQY"
   },
   "outputs": [],
   "source": [
    "# 正解データの表示\n",
    "\n",
    "# 正解データの先頭20行目から24行目の表示\n",
    "print(y[20:25])"
   ]
  },
  {
   "cell_type": "code",
   "execution_count": null,
   "metadata": {
    "colab": {},
    "colab_type": "code",
    "id": "DmWwsLdPyXJ7"
   },
   "outputs": [],
   "source": [
    "# データの統計情報確認\n",
    "\n",
    "# 入力データの行数、列数の確認\n",
    "print(df.shape)\n",
    "print()\n",
    "\n",
    "# 正解データの1と0の個数確認\n",
    "print(y.value_counts())"
   ]
  },
  {
   "cell_type": "code",
   "execution_count": null,
   "metadata": {
    "colab": {},
    "colab_type": "code",
    "id": "BblWBEaj92eC",
    "scrolled": false
   },
   "outputs": [],
   "source": [
    "# 散布図描画の準備\n",
    "# データを正解データ=0のグループと正解データ=1のグループに分割する\n",
    "\n",
    "# 正解データ = 0 (悪性)のデータ抽出\n",
    "df0 = df[y==0]\n",
    "\n",
    "# 正解データ = 1(良性)のデータ抽出\n",
    "df1 = df[y==1]\n",
    "\n",
    "display(df0.head())\n",
    "display(df1.head())"
   ]
  },
  {
   "cell_type": "code",
   "execution_count": null,
   "metadata": {
    "colab": {},
    "colab_type": "code",
    "id": "pCm4vGsw-kOG"
   },
   "outputs": [],
   "source": [
    "# 散布図表示\n",
    "\n",
    "# グラフのサイズ設定\n",
    "plt.figure(figsize=(6,6))\n",
    "\n",
    "# 目的変数が0のデータを散布図表示\n",
    "plt.scatter(df0['半径_平均'], df0['きめ_平均'], marker='x',\n",
    "    c='b', label='悪性')\n",
    "\n",
    "# 目的変数が1のデータを散布図表示\n",
    "plt.scatter(df1['半径_平均'], df1['きめ_平均'], marker='s',\n",
    "    c='k', label='良性')\n",
    "\n",
    "# 格子表示\n",
    "plt.grid()\n",
    "\n",
    "# ラベル表示\n",
    "plt.xlabel('半径_平均')\n",
    "plt.ylabel('きめ_平均')\n",
    "\n",
    "# 凡例表示\n",
    "plt.legend()\n",
    "\n",
    "# グラフ表示\n",
    "plt.show()"
   ]
  },
  {
   "cell_type": "markdown",
   "metadata": {
    "colab_type": "text",
    "id": "aqIx-ZNmau5R"
   },
   "source": [
    "### 3.3.3 (3) データ前処理"
   ]
  },
  {
   "cell_type": "code",
   "execution_count": null,
   "metadata": {
    "colab": {},
    "colab_type": "code",
    "id": "95nHMEf_xd6g"
   },
   "outputs": [],
   "source": [
    "# 入力データを2項目だけに絞り込む\n",
    "\n",
    "input_columns = ['半径_平均', 'きめ_平均']\n",
    "x = df[input_columns]\n",
    "display(x.head())"
   ]
  },
  {
   "cell_type": "markdown",
   "metadata": {
    "colab_type": "text",
    "id": "EUlb2hLb1qzl"
   },
   "source": [
    "### 3.3.4 (4) データ分割"
   ]
  },
  {
   "cell_type": "code",
   "execution_count": null,
   "metadata": {
    "colab": {},
    "colab_type": "code",
    "id": "0b9yh-rMNKCL"
   },
   "outputs": [],
   "source": [
    "# 訓練用データと検証用データの分割\n",
    "\n",
    "from sklearn.model_selection import train_test_split\n",
    "x_train, x_test, y_train, y_test = train_test_split(x, y, \n",
    "    train_size=0.7, test_size=0.3, random_state=random_seed)"
   ]
  },
  {
   "cell_type": "code",
   "execution_count": null,
   "metadata": {
    "colab": {},
    "colab_type": "code",
    "id": "BkHtxn--OEwu"
   },
   "outputs": [],
   "source": [
    "# 分割結果の確認 (要素数)\n",
    "\n",
    "print(x_train.shape)\n",
    "print(x_test.shape)\n",
    "print(y_train.shape)\n",
    "print(y_test.shape)"
   ]
  },
  {
   "cell_type": "code",
   "execution_count": null,
   "metadata": {
    "colab": {},
    "colab_type": "code",
    "id": "PtJYmh1-jFFP"
   },
   "outputs": [],
   "source": [
    "# 分割結果の確認 (データの内容)\n",
    "\n",
    "display(x_train.head())\n",
    "display(x_test.head())\n",
    "display(y_train.head())\n",
    "display(y_test.head())"
   ]
  },
  {
   "cell_type": "markdown",
   "metadata": {
    "colab_type": "text",
    "id": "8xpwIVSZbKFS"
   },
   "source": [
    "### 3.3.5 (5) アルゴリズム選択"
   ]
  },
  {
   "cell_type": "code",
   "execution_count": null,
   "metadata": {
    "colab": {},
    "colab_type": "code",
    "id": "38pyzBSA-sZo"
   },
   "outputs": [],
   "source": [
    "# アルゴリズム選定\n",
    "\n",
    "from sklearn.linear_model import LogisticRegression\n",
    "algorithm = LogisticRegression(random_state=random_seed)"
   ]
  },
  {
   "cell_type": "markdown",
   "metadata": {
    "colab_type": "text",
    "id": "Sw1ksbvj1qzx"
   },
   "source": [
    "### 3.3.6 (6) 学習"
   ]
  },
  {
   "cell_type": "code",
   "execution_count": null,
   "metadata": {
    "colab": {},
    "colab_type": "code",
    "id": "KgGL_5uxbsnG"
   },
   "outputs": [],
   "source": [
    "# 学習\n",
    "\n",
    "algorithm.fit(x_train, y_train)\n",
    "print(algorithm)"
   ]
  },
  {
   "cell_type": "markdown",
   "metadata": {
    "colab_type": "text",
    "id": "YXLsnizH1qzz"
   },
   "source": [
    "### 3.3.7 (7) 予測"
   ]
  },
  {
   "cell_type": "code",
   "execution_count": null,
   "metadata": {
    "colab": {},
    "colab_type": "code",
    "id": "YyBEtP_EEBz9"
   },
   "outputs": [],
   "source": [
    "# 予測\n",
    "\n",
    "# predict関数の呼出し\n",
    "y_pred = algorithm.predict(x_test)\n",
    "\n",
    "# 結果の確認\n",
    "print(y_pred)"
   ]
  },
  {
   "cell_type": "markdown",
   "metadata": {
    "colab_type": "text",
    "id": "B0SoYJcp1qz3"
   },
   "source": [
    "### 3.3.8 (8) 評価"
   ]
  },
  {
   "cell_type": "code",
   "execution_count": null,
   "metadata": {
    "colab": {},
    "colab_type": "code",
    "id": "sE0vi8a6A0VM"
   },
   "outputs": [],
   "source": [
    "# 正解データと予測結果の比較\n",
    "\n",
    "# 正解データ　先頭から10個\n",
    "# y_testはDataFrameなので、valuesによりNumPyに変換しておく\n",
    "y_test10 = y_test[:10].values\n",
    "print(y_test10)\n",
    "\n",
    "# 予測結果　先頭から20個\n",
    "y_pred10 = y_pred[:10]\n",
    "print(y_pred10)"
   ]
  },
  {
   "cell_type": "code",
   "execution_count": null,
   "metadata": {
    "colab": {},
    "colab_type": "code",
    "id": "leq0Iov-Gr-T"
   },
   "outputs": [],
   "source": [
    "# 正解数のカウント\n",
    "\n",
    "# 正解データ = 予測結果　\n",
    "w1 = (y_test10 == y_pred10)\n",
    "print(w1)\n",
    "\n",
    "# 正解データの数\n",
    "w2 = w1.sum()\n",
    "print(w2)"
   ]
  },
  {
   "cell_type": "code",
   "execution_count": null,
   "metadata": {
    "colab": {},
    "colab_type": "code",
    "id": "Wvh2jKELHmHg"
   },
   "outputs": [],
   "source": [
    "# 精度の計算\n",
    "\n",
    "# 正解数の計算\n",
    "w = (y_test.values == y_pred)\n",
    "correct = w.sum()\n",
    "\n",
    "# 検証データ全体数の計算\n",
    "N = len(w)\n",
    "\n",
    "# 精度 = (正解数) / (検証データ全体数)\n",
    "score = correct / N\n",
    "\n",
    "# 結果表示\n",
    "print(f'精度: {score:.04f}')"
   ]
  },
  {
   "cell_type": "code",
   "execution_count": null,
   "metadata": {
    "colab": {},
    "colab_type": "code",
    "id": "gUqIk9QtH6pj"
   },
   "outputs": [],
   "source": [
    "# score関数の利用\n",
    "\n",
    "# 実は精度は score関数で簡単に計算できる\n",
    "score = algorithm.score(x_test, y_test)\n",
    "print(f'score: {score:.04f}')"
   ]
  },
  {
   "cell_type": "markdown",
   "metadata": {
    "colab_type": "text",
    "id": "C_dGu1VG06Yk"
   },
   "source": [
    "### 3.3.9 (9) チューニング"
   ]
  },
  {
   "cell_type": "code",
   "execution_count": null,
   "metadata": {
    "colab": {},
    "colab_type": "code",
    "id": "HoFTZxRJ1Aeq"
   },
   "outputs": [],
   "source": [
    "# モデルの精度を上げる\n",
    "\n",
    "# オリジナルの30項目の入力データを使って、訓練データ、検証データを作り直す\n",
    "x2_train, x2_test, y_train, y_test = train_test_split(df, y, \n",
    "    train_size=0.7, test_size=0.3, random_state=random_seed)\n",
    "\n",
    "# ロジスティック回帰モデルのインスタンスを新たに作り直す\n",
    "algorithm2 = LogisticRegression(random_state=random_seed)\n",
    "\n",
    "# 訓練データで学習\n",
    "algorithm2.fit(x2_train, y_train)\n",
    "\n",
    "# 検証データで精度を確認\n",
    "score2 = algorithm2.score(x2_test, y_test)\n",
    "print(f'score: {score2:.04f}')"
   ]
  },
  {
   "cell_type": "markdown",
   "metadata": {
    "colab_type": "text",
    "id": "xnkzq46K1q0B"
   },
   "source": [
    "## (補足) 決定境界の表示\n",
    "以下のセルでは、決定境界を表示するためのコードと、なぜそのような実装になるかの簡単な解説を記載しています。  \n",
    "かなり高度は内容ですので、あまりPythonに詳しくない読者は、飛ばしてもらって構いません。  \n",
    "Pytho実装に関心のある読者は参考とするようにしてください。"
   ]
  },
  {
   "cell_type": "markdown",
   "metadata": {
    "colab_type": "text",
    "id": "a9s00TJn1q0C"
   },
   "source": [
    "### ロジスティック回帰の内部構造\n",
    "\n",
    "ロジスティック回帰モデルとは、  \n",
    "(1) 入力変数を一次関数にかけて実数値を導出  \n",
    "(2) (1)で得られた一次関数値をシグモイド関数と呼ばれる関数にかけて確率値を算出  \n",
    "(3) (2)の結果が0.5より大きいか小さいかで予測結果が1か0かを判断\n",
    "という処理を内部的に行っています。  \n",
    "\n",
    "(1)で使われる一次関数の傾きと切片はそれぞれ変数coef_とintercept_で取得可能です。  \n",
    "以下のコードではこの性質を使って、内部変数値を取得しています。\n",
    "\n",
    "なお、このモデルでは多値分類用に、複数の内部変数を保持できるようになっています。\n",
    "そのため、配列が2次元になっていますが、今回利用するのは2値分類なので、最初の要素([0])の値のみ利用します。\n",
    "\n"
   ]
  },
  {
   "cell_type": "markdown",
   "metadata": {
    "colab_type": "text",
    "id": "RR798xZ61q0C"
   },
   "source": [
    "### 内部変数値の取得"
   ]
  },
  {
   "cell_type": "code",
   "execution_count": null,
   "metadata": {
    "colab": {},
    "colab_type": "code",
    "id": "dDzUoI-j1q0C"
   },
   "outputs": [],
   "source": [
    "# モデルの内部変数(切片と係数)の取得\n",
    "\n",
    "# x1とx2の係数\n",
    "w1 = algorithm.coef_[0][0]\n",
    "w2 = algorithm.coef_[0][1]\n",
    "\n",
    "# 切片の値\n",
    "w0 = algorithm.intercept_[0]\n",
    "\n",
    "# 値の確認\n",
    "print(f'w0 = {w0:.4f}  w1 = {w1:.4f}  w2 = {w2:.4f}')"
   ]
  },
  {
   "cell_type": "markdown",
   "metadata": {
    "colab_type": "text",
    "id": "KGo9rmBN1q0F"
   },
   "source": [
    "### boundary関数の定義"
   ]
  },
  {
   "cell_type": "markdown",
   "metadata": {
    "colab_type": "text",
    "id": "Cw7089Tt1q0G"
   },
   "source": [
    "ここで得られた w0, w1, w2の値を用いると、散布図上に決定境界を示すための関数boundaryを決めることができます。  \n",
    "具体的な関数と、それを導出するための式を以下のセルで示しました。"
   ]
  },
  {
   "cell_type": "code",
   "execution_count": null,
   "metadata": {
    "colab": {},
    "colab_type": "code",
    "id": "GUNtZtbQ1q0G"
   },
   "outputs": [],
   "source": [
    "# 決定境界計算用関数\n",
    "\n",
    "# 決定境界計算用関数\n",
    "# 0 = w0 + w1 * x + w2 * y をyについて解くと以下の式になる\n",
    "# y = -(w0 + w1 * x)/ w2\n",
    "\n",
    "def boundary(algorithm, x):\n",
    "    w1 = algorithm.coef_[0][0]\n",
    "    w2 = algorithm.coef_[0][1]\n",
    "    w0 = algorithm.intercept_[0]\n",
    "    y = -(w0 + w1 * x)/w2\n",
    "    return y"
   ]
  },
  {
   "cell_type": "markdown",
   "metadata": {
    "colab_type": "text",
    "id": "6cWhsERP1q0J"
   },
   "source": [
    "### 決定境界の端点値の計算"
   ]
  },
  {
   "cell_type": "markdown",
   "metadata": {
    "colab_type": "text",
    "id": "am0xrlpv1q0J"
   },
   "source": [
    "次に示すコードは、上で定義したboundary関数を利用して、決定境界を構成する端点の座標を求めるためのものです。  \n",
    "あわせて、元のデータフレームからyの最小値と最大値を求め、グラフの見栄えをよくします 。"
   ]
  },
  {
   "cell_type": "code",
   "execution_count": null,
   "metadata": {
    "colab": {},
    "colab_type": "code",
    "id": "fqVsJ71D1q0J"
   },
   "outputs": [],
   "source": [
    "# 決定境界の端点値計算\n",
    "\n",
    "# 決定境界の端点のx座標\n",
    "x_range = np.array((df['半径_平均'].min(), df['半径_平均'].max()))\n",
    "\n",
    "# 決定境界の端点のy座標\n",
    "y_range = boundary(algorithm, x_range)\n",
    "\n",
    "# yの上限、下限は散布図の点を元に決める\n",
    "y_lim = (df['きめ_平均'].min(), df['きめ_平均'].max())\n",
    "\n",
    "# 結果確認\n",
    "print('端点のx座標: ', x_range)\n",
    "print('端点のy座標: ', y_range)\n",
    "print('グラフのy領域: ', y_lim)"
   ]
  },
  {
   "cell_type": "markdown",
   "metadata": {
    "colab_type": "text",
    "id": "B168GkhX1q0M"
   },
   "source": [
    "### 散布図と決定境界の表示"
   ]
  },
  {
   "cell_type": "markdown",
   "metadata": {
    "colab_type": "text",
    "id": "mJLTtmbA1q0M"
   },
   "source": [
    "これですべての準備は整いました。  \n",
    "次に示すコードでは、コード3-8で表示した学習データの散布図と、今求めた決定境界を重ね描きしています。"
   ]
  },
  {
   "cell_type": "code",
   "execution_count": null,
   "metadata": {
    "colab": {},
    "colab_type": "code",
    "id": "RdDhJGH91q0N"
   },
   "outputs": [],
   "source": [
    "# 散布図と決定境界の表示\n",
    "\n",
    "# グラフのサイズ設定\n",
    "plt.figure(figsize=(6,6))\n",
    "\n",
    "# 目的変数が0のデータを散布図表示\n",
    "plt.scatter(df0['半径_平均'], df0['きめ_平均'], marker='x', c='b', label='悪性')\n",
    "\n",
    "# 目的変数が1のデータを散布図表示\n",
    "plt.scatter(df1['半径_平均'], df1['きめ_平均'], marker='s', c='k', label='良性')\n",
    "\n",
    "# 決定境界\n",
    "plt.plot(x_range, y_range, c='b', label='決定境界')\n",
    "\n",
    "# 範囲指定\n",
    "plt.ylim(y_lim)\n",
    "\n",
    "# ラベル表示\n",
    "plt.xlabel('半径_平均')\n",
    "plt.ylabel('きめ_平均')\n",
    "\n",
    "# 凡例表示\n",
    "plt.legend()\n",
    "\n",
    "# 方眼表示\n",
    "plt.grid()\n",
    "\n",
    "# グラフ表示\n",
    "plt.show()"
   ]
  },
  {
   "cell_type": "code",
   "execution_count": null,
   "metadata": {
    "colab": {},
    "colab_type": "code",
    "id": "HsVKymrC1q0X"
   },
   "outputs": [],
   "source": []
  }
 ],
 "metadata": {
  "colab": {
   "collapsed_sections": [],
   "name": "ch03_03_first_ml.ipynb",
   "provenance": []
  },
  "kernelspec": {
   "display_name": "Python 3",
   "language": "python",
   "name": "python3"
  },
  "language_info": {
   "codemirror_mode": {
    "name": "ipython",
    "version": 3
   },
   "file_extension": ".py",
   "mimetype": "text/x-python",
   "name": "python",
   "nbconvert_exporter": "python",
   "pygments_lexer": "ipython3",
   "version": "3.7.6"
  }
 },
 "nbformat": 4,
 "nbformat_minor": 1
}
