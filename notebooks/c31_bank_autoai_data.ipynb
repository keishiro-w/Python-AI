{
 "cells": [
  {
   "cell_type": "markdown",
   "metadata": {},
   "source": [
    "##  AutoAIデータ作成用\n",
    "データの内容も日本語化  \n",
    "2020-09-23 訓練データ件数を減らす(Lite Plan対策)"
   ]
  },
  {
   "cell_type": "code",
   "execution_count": null,
   "metadata": {},
   "outputs": [],
   "source": [
    "# 共通事前処理\n",
    "\n",
    "# 必要ライブラリのimport\n",
    "import pandas as pd\n",
    "# データフレーム表示用関数\n",
    "from IPython.display import display"
   ]
  },
  {
   "cell_type": "code",
   "execution_count": null,
   "metadata": {},
   "outputs": [],
   "source": [
    "# 公開データのダウンロードと解凍\n",
    "!wget https://archive.ics.uci.edu/ml/machine-learning-databases/00222/bank.zip -O bank.zip | tail -n 1\n",
    "!unzip -o bank.zip | tail -n 1\n",
    "\n",
    "# bank-full.csvをデータフレームに取り込み\n",
    "df_all = pd.read_csv('bank-full.csv', sep=';')\n",
    "\n",
    "# 項目名を日本語に置き換える\n",
    "columns = [\n",
    "    '年齢', '職業', '婚姻', '学歴', '債務不履行',  '平均残高',  '住宅ローン',  '個人ローン',\n",
    "    '連絡手段',  '最終通話日',  '最終通話月',  '最終通話秒数', '通話回数_販促中',\n",
    "    '前回販促後_経過日数',  '通話回数_販促前',  '前回販促結果', '今回販促結果'\n",
    "]\n",
    "df_all.columns = columns"
   ]
  },
  {
   "cell_type": "code",
   "execution_count": null,
   "metadata": {},
   "outputs": [],
   "source": [
    "display(df_all.head())"
   ]
  },
  {
   "cell_type": "code",
   "execution_count": null,
   "metadata": {},
   "outputs": [],
   "source": [
    "yn_dict = {\n",
    "    'yes': 'はい',\n",
    "    'no': 'いいえ'\n",
    "}\n",
    "yn_dict2 = {\n",
    "    'yes': '成功',\n",
    "    'no': '失敗'\n",
    "}    "
   ]
  },
  {
   "cell_type": "code",
   "execution_count": null,
   "metadata": {},
   "outputs": [],
   "source": [
    "df_jp = df_all.copy()\n",
    "df_jp['債務不履行'] = df_jp['債務不履行'].map(yn_dict)\n",
    "df_jp['住宅ローン'] = df_jp['住宅ローン'].map(yn_dict)\n",
    "df_jp['個人ローン'] = df_jp['個人ローン'].map(yn_dict)\n",
    "df_jp['今回販促結果'] = df_jp['今回販促結果'].map(yn_dict2)\n",
    "\n"
   ]
  },
  {
   "cell_type": "code",
   "execution_count": null,
   "metadata": {},
   "outputs": [],
   "source": [
    "display(df_jp.head())"
   ]
  },
  {
   "cell_type": "code",
   "execution_count": null,
   "metadata": {},
   "outputs": [],
   "source": [
    "random_seed = 123\n",
    "# 訓練データと検証データの分割\n",
    "# 訓練データ10% 検証データ90%の比率で分割する\n",
    "test_size = 0.90\n",
    "\n",
    "y = df_jp['今回販促結果'].values\n",
    "\n",
    "from sklearn.model_selection import train_test_split\n",
    "df_jp_train, df_jp_test = train_test_split(\n",
    "  df_jp, test_size=test_size, random_state=random_seed,\n",
    "  stratify=y)"
   ]
  },
  {
   "cell_type": "code",
   "execution_count": null,
   "metadata": {},
   "outputs": [],
   "source": [
    "print(df_jp_train.shape)\n",
    "print(df_jp_test.shape)"
   ]
  },
  {
   "cell_type": "markdown",
   "metadata": {},
   "source": [
    "### CSVファイル保存"
   ]
  },
  {
   "cell_type": "code",
   "execution_count": null,
   "metadata": {},
   "outputs": [],
   "source": [
    "fn_train = 'bank-train-jp-autoai.csv'\n",
    "df_jp_train.to_csv(fn_train, index=False)"
   ]
  },
  {
   "cell_type": "code",
   "execution_count": null,
   "metadata": {},
   "outputs": [],
   "source": [
    "fn_test = 'bank-test-jp-autoai.csv'\n",
    "df_jp_test.to_csv(fn_test, index=False)"
   ]
  },
  {
   "cell_type": "markdown",
   "metadata": {},
   "source": [
    "### Google Colabからダウンロード"
   ]
  },
  {
   "cell_type": "code",
   "execution_count": null,
   "metadata": {},
   "outputs": [],
   "source": [
    "try:\n",
    "    from google.colab import files\n",
    "    files.download(fn_train) \n",
    "    files.download(fn_test)      \n",
    "except:\n",
    "    print('not google colab')"
   ]
  },
  {
   "cell_type": "markdown",
   "metadata": {},
   "source": [
    "### 以下はjsonデータ作成用"
   ]
  },
  {
   "cell_type": "code",
   "execution_count": null,
   "metadata": {},
   "outputs": [],
   "source": [
    "df_jp_yes = df_jp_test[df_jp_test['今回販促結果']=='成功']\n",
    "display(df_jp_yes.head())"
   ]
  },
  {
   "cell_type": "code",
   "execution_count": null,
   "metadata": {},
   "outputs": [],
   "source": [
    "df_jp_no = df_jp_test[df_jp_test['今回販促結果']=='失敗']\n",
    "display(df_jp_no.head())"
   ]
  },
  {
   "cell_type": "code",
   "execution_count": null,
   "metadata": {},
   "outputs": [],
   "source": [
    "df_jp_yes20 = df_jp_yes.drop('今回販促結果', axis=1).head(20)\n",
    "df_jp_no20 = df_jp_no.drop('今回販促結果', axis=1).head(20)"
   ]
  },
  {
   "cell_type": "code",
   "execution_count": null,
   "metadata": {},
   "outputs": [],
   "source": [
    "fields = df_jp_yes20.columns.tolist()\n",
    "print(fields)"
   ]
  },
  {
   "cell_type": "code",
   "execution_count": null,
   "metadata": {},
   "outputs": [],
   "source": [
    "values_yes = df_jp_yes20.values.tolist()\n",
    "print(values_yes)"
   ]
  },
  {
   "cell_type": "code",
   "execution_count": null,
   "metadata": {},
   "outputs": [],
   "source": [
    "values_no = df_jp_no20.values.tolist()\n",
    "print(values_no)"
   ]
  },
  {
   "cell_type": "code",
   "execution_count": null,
   "metadata": {},
   "outputs": [],
   "source": [
    "import json"
   ]
  },
  {
   "cell_type": "code",
   "execution_count": null,
   "metadata": {
    "scrolled": true
   },
   "outputs": [],
   "source": [
    "scoring_payload_yes = {\"input_data\": [{\n",
    "   \"fields\": fields, \n",
    "    \"values\": values_yes\n",
    "}]}\n",
    "\n",
    "print(json.dumps(scoring_payload_yes,  ensure_ascii=False))"
   ]
  },
  {
   "cell_type": "code",
   "execution_count": null,
   "metadata": {
    "scrolled": true
   },
   "outputs": [],
   "source": [
    "scoring_payload_no = {\"input_data\": [{\n",
    "   \"fields\": fields, \n",
    "    \"values\": values_no\n",
    "}]}\n",
    "\n",
    "print(json.dumps(scoring_payload_no,  ensure_ascii=False))"
   ]
  },
  {
   "cell_type": "code",
   "execution_count": null,
   "metadata": {},
   "outputs": [],
   "source": [
    "print(df_jp_test.shape)"
   ]
  },
  {
   "cell_type": "code",
   "execution_count": null,
   "metadata": {},
   "outputs": [],
   "source": []
  }
 ],
 "metadata": {
  "kernelspec": {
   "display_name": "Python 3",
   "language": "python",
   "name": "python3"
  },
  "language_info": {
   "codemirror_mode": {
    "name": "ipython",
    "version": 3
   },
   "file_extension": ".py",
   "mimetype": "text/x-python",
   "name": "python",
   "nbconvert_exporter": "python",
   "pygments_lexer": "ipython3",
   "version": "3.7.6"
  }
 },
 "nbformat": 4,
 "nbformat_minor": 4
}
