{
 "cells": [
  {
   "cell_type": "markdown",
   "metadata": {
    "colab_type": "text",
    "id": "5IMxZQV61P12"
   },
   "source": [
    "## 付録 2.4 matplotlinb入門"
   ]
  },
  {
   "cell_type": "code",
   "execution_count": null,
   "metadata": {
    "colab": {
     "base_uri": "https://localhost:8080/",
     "height": 34
    },
    "colab_type": "code",
    "id": "CVHsV3PP1P13",
    "outputId": "4adb8c1a-b9e7-4f01-ec38-9e87800e2587"
   },
   "outputs": [],
   "source": [
    "# 日本語化ライブラリ導入\n",
    "!pip install japanize-matplotlib | tail -n 1"
   ]
  },
  {
   "cell_type": "code",
   "execution_count": null,
   "metadata": {
    "colab": {},
    "colab_type": "code",
    "id": "EeFtwc6P1P18"
   },
   "outputs": [],
   "source": [
    "# 共通事前処理\n",
    "\n",
    "# 余分なワーニングを非表示にする\n",
    "import warnings\n",
    "warnings.filterwarnings('ignore')\n",
    "\n",
    "# 必要ライブラリのimport\n",
    "import pandas as pd\n",
    "import numpy as np\n",
    "import matplotlib.pyplot as plt\n",
    "\n",
    "# matplotlib日本語化対応\n",
    "import japanize_matplotlib\n",
    "\n",
    "# データフレーム表示用関数\n",
    "from IPython.display import display\n",
    "\n",
    "# グラフのデフォルトフォント指定\n",
    "plt.rcParams[\"font.size\"] = 14"
   ]
  },
  {
   "cell_type": "markdown",
   "metadata": {
    "colab_type": "text",
    "id": "u-fIeytl1P1_"
   },
   "source": [
    "### 1. pltによる簡易描画"
   ]
  },
  {
   "cell_type": "markdown",
   "metadata": {
    "colab_type": "text",
    "id": "udaKCL-L1P1_"
   },
   "source": [
    "#### 散布図"
   ]
  },
  {
   "cell_type": "code",
   "execution_count": null,
   "metadata": {
    "colab": {
     "base_uri": "https://localhost:8080/",
     "height": 195
    },
    "colab_type": "code",
    "id": "Es-WNkfv1P1_",
    "outputId": "d7149a8c-77a0-4aea-ed00-5d6f02f68733"
   },
   "outputs": [],
   "source": [
    "# データ準備\n",
    "import seaborn as sns\n",
    "df_iris = sns.load_dataset(\"iris\") \n",
    "\n",
    "# 結果確認\n",
    "display(df_iris.head())\n",
    "\n",
    "# 散布図x座標用Series\n",
    "xs = df_iris['sepal_length']\n",
    "\n",
    "# 散布図y座標用Series\n",
    "ys = df_iris['sepal_width']"
   ]
  },
  {
   "cell_type": "code",
   "execution_count": null,
   "metadata": {
    "colab": {
     "base_uri": "https://localhost:8080/",
     "height": 380
    },
    "colab_type": "code",
    "id": "UGxEsn0X1P2C",
    "outputId": "5aa7b5ce-8191-4235-95ff-3d7ee9776d94"
   },
   "outputs": [],
   "source": [
    "# サイズ設定\n",
    "plt.rcParams['figure.figsize'] = (6, 6)\n",
    "\n",
    "# 散布図\n",
    "plt.scatter(xs, ys)\n",
    "\n",
    "# 描画\n",
    "plt.show()"
   ]
  },
  {
   "cell_type": "markdown",
   "metadata": {
    "colab_type": "text",
    "id": "y7Ahnm431P2F"
   },
   "source": [
    "#### 関数グラフ"
   ]
  },
  {
   "cell_type": "code",
   "execution_count": null,
   "metadata": {
    "colab": {},
    "colab_type": "code",
    "id": "1xx8yyay1P2F"
   },
   "outputs": [],
   "source": [
    "# データ準備\n",
    "\n",
    "# シグモイド関数の定義\n",
    "def sigmoid(x, a):\n",
    "    return 1/(1 + np.exp(-a*x))\n",
    "\n",
    "# グラフ描画用x座標リスト\n",
    "xp = np.linspace(-3, 3, 61)"
   ]
  },
  {
   "cell_type": "markdown",
   "metadata": {
    "colab_type": "text",
    "id": "nARycg6a1P2K"
   },
   "source": [
    "#### 単純な例"
   ]
  },
  {
   "cell_type": "code",
   "execution_count": null,
   "metadata": {
    "colab": {
     "base_uri": "https://localhost:8080/",
     "height": 377
    },
    "colab_type": "code",
    "id": "ProeQEHq1P2K",
    "outputId": "3b1cba67-33b7-44a8-8820-6fee960da9d9"
   },
   "outputs": [],
   "source": [
    "# サイズ設定\n",
    "plt.rcParams['figure.figsize'] = (6, 6)\n",
    "\n",
    "# グラフ描画\n",
    "plt.plot(xp, sigmoid(xp, 1.0))\n",
    "\n",
    "# 描画\n",
    "plt.show()"
   ]
  },
  {
   "cell_type": "markdown",
   "metadata": {
    "colab_type": "text",
    "id": "Ksn0T5h71P2O"
   },
   "source": [
    "#### 複雑な例"
   ]
  },
  {
   "cell_type": "code",
   "execution_count": null,
   "metadata": {
    "colab": {
     "base_uri": "https://localhost:8080/",
     "height": 394
    },
    "colab_type": "code",
    "id": "we62RKgU1P2O",
    "outputId": "b3768133-e36e-454d-b6ef-ba3ed42662ba"
   },
   "outputs": [],
   "source": [
    "# サイズ設定\n",
    "plt.rcParams['figure.figsize'] = (6, 6)\n",
    "\n",
    "#ラベル付きグラフ描画 #1\n",
    "plt.plot(xp, sigmoid(xp, 1.0), \n",
    "         label='シグモイド関数1', lw=3, c='k')\n",
    "\n",
    "# ラベル付きグラフ描画 #2\n",
    "plt.plot(xp, sigmoid(xp, 2.0), \n",
    "         label='シグモイド関数2', lw=2, c='b')\n",
    "\n",
    "#方眼表示\n",
    "plt.grid()\n",
    "\n",
    "# 凡例表示\n",
    "plt.legend()\n",
    "\n",
    "# 軸表示\n",
    "plt.xlabel('x軸')\n",
    "plt.ylabel('y軸')\n",
    "\n",
    "# 描画\n",
    "plt.show()"
   ]
  },
  {
   "cell_type": "markdown",
   "metadata": {
    "colab_type": "text",
    "id": "uADXcDSU1P2Q"
   },
   "source": [
    "### 2. fig, ax を使った複雑な描画"
   ]
  },
  {
   "cell_type": "markdown",
   "metadata": {
    "colab_type": "text",
    "id": "XuZXa78I1P2R"
   },
   "source": [
    "#### 時系列グラフ"
   ]
  },
  {
   "cell_type": "code",
   "execution_count": null,
   "metadata": {
    "colab": {
     "base_uri": "https://localhost:8080/",
     "height": 195
    },
    "colab_type": "code",
    "id": "Foa8ikej1P2R",
    "outputId": "f96eca9d-d525-4d36-8eef-b01bad48790c"
   },
   "outputs": [],
   "source": [
    "#データ準備\n",
    "\n",
    "# アイスクリーム消費量\n",
    "df_ice = pd.read_excel('https://github.com/makaishi2\\\n",
    "/sample-data/blob/master/data/ice-sales.xlsx?raw=true', \n",
    "    sheet_name=0)\n",
    "\n",
    "# 結果確認\n",
    "display(df_ice.head())"
   ]
  },
  {
   "cell_type": "code",
   "execution_count": null,
   "metadata": {
    "colab": {
     "base_uri": "https://localhost:8080/",
     "height": 313
    },
    "colab_type": "code",
    "id": "VegbZxD71P2U",
    "outputId": "91e19a66-282e-4907-b6fc-acddf8eb44c7"
   },
   "outputs": [],
   "source": [
    "# ax変数の取得\n",
    "# サイズ指定も同時に行う\n",
    "fig, ax = plt.subplots(figsize=(12, 4))\n",
    "\n",
    "# グラフ描画\n",
    "ax.plot(df_ice['年月'], df_ice['支出'], c='b')\n",
    "\n",
    "# 日付設定用ライブラリ\n",
    "import matplotlib.dates as mdates\n",
    "\n",
    "# 3カ月区切りの目盛にする\n",
    "days = mdates.MonthLocator(bymonth=range(1,13,3))\n",
    "ax.xaxis.set_major_locator(days)\n",
    "\n",
    "# x軸ラベルを90度回転\n",
    "ax.tick_params(axis='x', rotation=90)\n",
    "\n",
    "# 方眼表示\n",
    "ax.grid()\n",
    "\n",
    "# 描画\n",
    "plt.show()"
   ]
  },
  {
   "cell_type": "markdown",
   "metadata": {
    "colab_type": "text",
    "id": "pXY-prC71P2W"
   },
   "source": [
    "### 3. subplotを使った複数グラフの同時描画"
   ]
  },
  {
   "cell_type": "markdown",
   "metadata": {
    "colab_type": "text",
    "id": "6r1lXoP71P2W"
   },
   "source": [
    "#### イメージの複数同時表示"
   ]
  },
  {
   "cell_type": "code",
   "execution_count": null,
   "metadata": {
    "colab": {},
    "colab_type": "code",
    "id": "jEPCWTgQ1P2X"
   },
   "outputs": [],
   "source": [
    "# データ準備\n",
    "\n",
    "# 手書き数字データ\n",
    "# 時間がかかるので注意してください\n",
    "from sklearn.datasets import fetch_openml\n",
    "mnist = fetch_openml('mnist_784', version=1,)\n",
    "\n",
    "# イメージデータ\n",
    "image = mnist.data\n",
    "# 正解データ\n",
    "label = mnist.target"
   ]
  },
  {
   "cell_type": "code",
   "execution_count": null,
   "metadata": {
    "colab": {
     "base_uri": "https://localhost:8080/",
     "height": 201
    },
    "colab_type": "code",
    "id": "n8IJVncG1P2Z",
    "outputId": "80e489ec-dae5-437d-8e6f-614f4ca47c59"
   },
   "outputs": [],
   "source": [
    "# サイズ指定\n",
    "plt.figure(figsize=(10, 3))\n",
    "\n",
    "# 20個のイメージを表示\n",
    "for i in range(20): \n",
    "    \n",
    "    # i 番目のax変数取得\n",
    "    ax = plt.subplot(2, 10, i+1)\n",
    "    \n",
    "    # i番目のイメージデータ取得し28x28に変換\n",
    "    img = image[i].reshape(28,28)\n",
    "    \n",
    "    # imgをイメージ表示\n",
    "    ax.imshow(img, cmap='gray_r')\n",
    "    \n",
    "    # 正解データをタイトル表示\n",
    "    ax.set_title(label[i])\n",
    "    \n",
    "    # x, y目盛非表示\n",
    "    ax.set_xticks([])\n",
    "    ax.set_yticks([])\n",
    "    \n",
    "# 隣接オブジェクトとぶつからないようにする\n",
    "plt.tight_layout()\n",
    "\n",
    "# 表示\n",
    "plt.show() "
   ]
  },
  {
   "cell_type": "markdown",
   "metadata": {
    "colab_type": "text",
    "id": "FgbdWcye1P2d"
   },
   "source": [
    "### 4. データフレームからのグラフ表示"
   ]
  },
  {
   "cell_type": "markdown",
   "metadata": {
    "colab_type": "text",
    "id": "tbhlYkiR1P2d"
   },
   "source": [
    "#### ヒストグラム表示"
   ]
  },
  {
   "cell_type": "code",
   "execution_count": null,
   "metadata": {
    "colab": {
     "base_uri": "https://localhost:8080/",
     "height": 505
    },
    "colab_type": "code",
    "id": "llxQ_15C1P2d",
    "outputId": "616411ab-dcdd-40fd-c639-e2c4e9b6339b"
   },
   "outputs": [],
   "source": [
    "# ヒストグラム表示\n",
    "\n",
    "# サイズ設定\n",
    "plt.rcParams['figure.figsize'] = (8, 8)\n",
    "\n",
    "# ヒストグラム\n",
    "df_iris.hist()\n",
    "\n",
    "# 表示\n",
    "plt.show()"
   ]
  },
  {
   "cell_type": "markdown",
   "metadata": {
    "colab_type": "text",
    "id": "lhnKj6rw1P2g"
   },
   "source": [
    "#### value_countsの結果を棒グラフ表示"
   ]
  },
  {
   "cell_type": "code",
   "execution_count": null,
   "metadata": {
    "colab": {
     "base_uri": "https://localhost:8080/",
     "height": 122
    },
    "colab_type": "code",
    "id": "FDWruZXR1P2g",
    "outputId": "8fe0e3d6-7c47-4ee9-f435-290aba5f2df1"
   },
   "outputs": [],
   "source": [
    "# データ準備\n",
    "\n",
    "# df_iris['sepal_width']の値別個数を集計し、上位5件を取得\n",
    "counts_ser = df_iris['sepal_width'].value_counts().iloc[:5]\n",
    "\n",
    "# 結果確認\n",
    "print(counts_ser)"
   ]
  },
  {
   "cell_type": "code",
   "execution_count": null,
   "metadata": {
    "colab": {
     "base_uri": "https://localhost:8080/",
     "height": 277
    },
    "colab_type": "code",
    "id": "hDs643RN1P2i",
    "outputId": "e6b15da8-cdf6-4e35-adbc-116a21b1cd5b"
   },
   "outputs": [],
   "source": [
    "# value_countsの結果を棒グラフ表示\n",
    "\n",
    "# サイズ設定\n",
    "plt.rcParams['figure.figsize'] = (4, 4)\n",
    "\n",
    "# Seriesデータで棒グラフ表示\n",
    "counts_ser.plot(kind='bar')\n",
    "\n",
    "# 表示\n",
    "plt.show()"
   ]
  },
  {
   "cell_type": "code",
   "execution_count": null,
   "metadata": {
    "colab": {},
    "colab_type": "code",
    "id": "IkouPeL-1P2k"
   },
   "outputs": [],
   "source": []
  }
 ],
 "metadata": {
  "colab": {
   "name": "l2_03_matplotlib.ipynb",
   "provenance": []
  },
  "kernelspec": {
   "display_name": "Python 3",
   "language": "python",
   "name": "python3"
  },
  "language_info": {
   "codemirror_mode": {
    "name": "ipython",
    "version": 3
   },
   "file_extension": ".py",
   "mimetype": "text/x-python",
   "name": "python",
   "nbconvert_exporter": "python",
   "pygments_lexer": "ipython3",
   "version": "3.7.6"
  }
 },
 "nbformat": 4,
 "nbformat_minor": 1
}
